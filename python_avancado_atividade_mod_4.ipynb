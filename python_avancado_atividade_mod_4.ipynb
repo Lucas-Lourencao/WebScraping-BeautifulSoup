{
 "cells": [
  {
   "cell_type": "markdown",
   "id": "4dc90539",
   "metadata": {},
   "source": [
    "#### Desenvolva um Web Scraper para obter um arquivo YAML:\n",
    "\n",
    "1. Realize a raspagem de dados da página www.w3school.io/file/yaml-sample-example/\n",
    "\n",
    "2. Extraia o exemplo de arquivo YAML da página;\n",
    "\n",
    "3. Utilize REGEX para extrair os comentários contidos no exemplo e imprima na tela;\n",
    "\n",
    "4. Excreva um arquivo YAML os exemplos extraidos do arquivo YAML;"
   ]
  },
  {
   "cell_type": "code",
   "execution_count": null,
   "id": "be0863cb",
   "metadata": {},
   "outputs": [],
   "source": [
    "# Para realizar essa tarefa, precisamos importar as seguintes bibliotecas:\n",
    "import requests\n",
    "import re\n",
    "import yaml\n",
    "import bs4\n",
    "\n",
    "from bs4 import BeautifulSoup\n",
    "from re import findall\n",
    "from yaml import dump"
   ]
  },
  {
   "cell_type": "code",
   "execution_count": null,
   "id": "7c64940e",
   "metadata": {},
   "outputs": [],
   "source": [
    "# Obtendo e verificando a requisição no site do W3School\n",
    "url = \"https://www.w3schools.io/file/yaml-sample-example/\"\n",
    "response = requests.get(url)\n",
    "response"
   ]
  },
  {
   "cell_type": "code",
   "execution_count": null,
   "id": "d7b9480c",
   "metadata": {},
   "outputs": [],
   "source": [
    "#Obtendo as tags usando BeautifulSoup\n",
    "tags = BeautifulSoup(response.text, \"html.parser\")"
   ]
  },
  {
   "cell_type": "code",
   "execution_count": null,
   "id": "3cfd0b53",
   "metadata": {},
   "outputs": [],
   "source": [
    "#Obtendo o Codigo de exemplo YAML do W3Schools\n",
    "yaml = tags.find('code',  attrs={\"class\" : \"language-Yaml\"})"
   ]
  },
  {
   "cell_type": "code",
   "execution_count": null,
   "id": "c7e2f149",
   "metadata": {},
   "outputs": [],
   "source": [
    "#Obtendo os comentarios do codigo YAML\n",
    "comentarios = findall('# .*\\n', yaml.text)\n",
    "comentarios"
   ]
  },
  {
   "cell_type": "code",
   "execution_count": null,
   "id": "34600482",
   "metadata": {},
   "outputs": [],
   "source": [
    "# Realizando o Tratamento dos comentarios extraidos\n",
    "lista_comentarios_tratados = [com.replace('# ', '').replace('\\n', '') for com in comentarios]\n",
    "lista_comentarios_tratados "
   ]
  },
  {
   "cell_type": "code",
   "execution_count": null,
   "id": "d86466ca",
   "metadata": {},
   "outputs": [],
   "source": [
    "#Irá salvar no diretorio root deste notebook:\n",
    "with open(\"Comentarios_W3_YAML.yml\", \"w+\") as file:\n",
    "  dump(lista_comentarios_tratados, file)"
   ]
  },
  {
   "cell_type": "code",
   "execution_count": null,
   "id": "4248d434",
   "metadata": {},
   "outputs": [],
   "source": [
    "#Irá salvar no diretorio da pasta de avalização do modulo 4 do curso Python Avançado\n",
    "with open(\"C:/Users/nomeUsuario/OneDrive/Desktop/Avaliacao_Mod_4_PythonPro/Comentarios_W3_YAML.yml\", \"w+\") as file:\n",
    "  dump(lista_comentarios_tratados, file)"
   ]
  }
 ],
 "metadata": {
  "kernelspec": {
   "display_name": "Python 3 (ipykernel)",
   "language": "python",
   "name": "python3"
  },
  "language_info": {
   "codemirror_mode": {
    "name": "ipython",
    "version": 3
   },
   "file_extension": ".py",
   "mimetype": "text/x-python",
   "name": "python",
   "nbconvert_exporter": "python",
   "pygments_lexer": "ipython3",
   "version": "3.9.13"
  }
 },
 "nbformat": 4,
 "nbformat_minor": 5
}
